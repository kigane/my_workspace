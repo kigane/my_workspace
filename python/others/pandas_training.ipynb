{
 "metadata": {
  "language_info": {
   "codemirror_mode": {
    "name": "ipython",
    "version": 3
   },
   "file_extension": ".py",
   "mimetype": "text/x-python",
   "name": "python",
   "nbconvert_exporter": "python",
   "pygments_lexer": "ipython3",
   "version": "3.7.7-final"
  },
  "orig_nbformat": 2,
  "kernelspec": {
   "name": "python_defaultSpec_1600439263299",
   "display_name": "Python 3.7.7 64-bit"
  }
 },
 "nbformat": 4,
 "nbformat_minor": 2,
 "cells": [
  {
   "cell_type": "code",
   "execution_count": 2,
   "metadata": {},
   "outputs": [],
   "source": [
    "import pandas as pd"
   ]
  },
  {
   "cell_type": "code",
   "execution_count": 3,
   "metadata": {},
   "outputs": [
    {
     "output_type": "execute_result",
     "data": {
      "text/plain": "(160, 11)"
     },
     "metadata": {},
     "execution_count": 3
    }
   ],
   "source": [
    "# 读取csv\n",
    "cards = pd.read_csv(\"card_list.csv\")\n",
    "cards.shape"
   ]
  },
  {
   "cell_type": "code",
   "execution_count": null,
   "metadata": {},
   "outputs": [],
   "source": [
    "# 读取前五行\n",
    "cards.head()"
   ]
  },
  {
   "cell_type": "code",
   "execution_count": null,
   "metadata": {},
   "outputs": [],
   "source": [
    "# 保存csv\n",
    "cards.to_csv(\"cardscopy.csv\")"
   ]
  },
  {
   "cell_type": "code",
   "execution_count": null,
   "metadata": {},
   "outputs": [],
   "source": [
    "# 访问DataFrame中的数据--列\n",
    "# 属性形式\n",
    "cards.Name"
   ]
  },
  {
   "cell_type": "code",
   "execution_count": null,
   "metadata": {},
   "outputs": [],
   "source": [
    "# 字典形式\n",
    "cards[\"Name\"]"
   ]
  },
  {
   "cell_type": "code",
   "execution_count": null,
   "metadata": {},
   "outputs": [],
   "source": [
    "# 访问列中的某个值\n",
    "cards.Name[0]"
   ]
  },
  {
   "cell_type": "code",
   "execution_count": null,
   "metadata": {},
   "outputs": [],
   "source": [
    "# 数字索引\n",
    "# 行索引 iloc 先行后列，和普通python相反\n",
    "cards.iloc[0]\n",
    "# 单独的 : 意味着所有，[1:3]左闭右开区间\n",
    "cards.iloc[:3] # [0, 3)\n",
    "cards.iloc[1:3] # [1, 3)\n",
    "cards.iloc[-5:] # 倒数第5到最后\n",
    "cards.iloc[[1, 5, 15, 159], [0, 1]] # 用列表指定行，必须指定列，列表套列表第一个指定行，第二个不写默认全选"
   ]
  },
  {
   "cell_type": "code",
   "execution_count": null,
   "metadata": {},
   "outputs": [],
   "source": [
    "# 标签索引 loc\n",
    "cards.loc[0, 'Name']\n",
    "cards.loc[[1,2,3]]"
   ]
  },
  {
   "source": [
    "iloc和loc的区别\n",
    "* iloc使用的是python标准库中的索引机制，即左闭右开\n",
    "* loc使用的是pandas的索引，使用左闭右闭区间\n",
    "* loc可以使用字符串等其他类型\\[\"Apple\":\"Potato\"\\]，选择从A到P之间所有的水果"
   ],
   "cell_type": "markdown",
   "metadata": {}
  },
  {
   "cell_type": "code",
   "execution_count": null,
   "metadata": {},
   "outputs": [],
   "source": [
    "# 修改索引列，选择其他更好的列作为索引\n",
    "cards.set_index(\"Name\")\n",
    "cards.head()"
   ]
  },
  {
   "cell_type": "code",
   "execution_count": null,
   "metadata": {},
   "outputs": [],
   "source": [
    "# 条件索引 用于在DataFrame中找符合条件的数据\n",
    "# 返回一个bool列表，可用于索引，True对应行的数据显示，False行不显示\n",
    "blist = cards.Type == \"creature\"\n",
    "cards[blist]\n",
    "# 用 & 或 | 同时使用多个条件\n",
    "cards[blist & (cards.Attack >= 7)]"
   ]
  },
  {
   "cell_type": "code",
   "execution_count": null,
   "metadata": {},
   "outputs": [],
   "source": [
    "# 所有isin来选择符合列表中值的行\n",
    "cards[cards.Cost.isin([8,9,12])]"
   ]
  },
  {
   "cell_type": "code",
   "execution_count": null,
   "metadata": {},
   "outputs": [],
   "source": [
    "# 判断有没有空值\n",
    "cards.loc[cards.Descriptions.isnull()]\n",
    "cards.loc[cards.Descriptions.notnull()]"
   ]
  },
  {
   "cell_type": "code",
   "execution_count": null,
   "metadata": {},
   "outputs": [],
   "source": [
    "# 给DataFrame赋值\n",
    "# 给定常量，则一列都被赋予该值\n",
    "cards.Abilities = \"-0--0-\"\n",
    "# 给定迭代器\n",
    "cards.Abilities = range(len(cards), 0, -1)\n",
    "cards.head()"
   ]
  },
  {
   "cell_type": "code",
   "execution_count": null,
   "metadata": {},
   "outputs": [],
   "source": [
    "# 统计函数\n",
    "# 数值型\n",
    "cards.Attack.describe()\n",
    "cards.Attack.mean()"
   ]
  },
  {
   "cell_type": "code",
   "execution_count": null,
   "metadata": {},
   "outputs": [],
   "source": [
    "# 字符型总统计数据\n",
    "cards.Type.describe()\n",
    "# 不重复的值列表\n",
    "cards.Type.unique()\n",
    "# 不重复的值的频率列表\n",
    "cards.Type.value_counts()"
   ]
  },
  {
   "source": [
    "Map  \n",
    "* 映射，将一个Series中的数x修改为f(x)\n",
    "* lambda p : f(p)  其中p是Series中单个的输入，f(p)是你修改后的输出\n",
    "* map() 用于Series对象\n",
    "* apply() 用于DataFrame对象，对每一行应用\n",
    "* map和apply都没有修改原来的对象，而是返回了新的修改过的对象\n",
    "* pandas有内建的map,apply方法，如cards.Attack - cards.Attack.mean,cards.Number + \"-\" + cards.Name"
   ],
   "cell_type": "markdown",
   "metadata": {}
  },
  {
   "cell_type": "code",
   "execution_count": null,
   "metadata": {},
   "outputs": [],
   "source": [
    "cmean = cards.Attack.mean()\n",
    "cards.Attack.map(lambda p : p-cmean)"
   ]
  },
  {
   "cell_type": "code",
   "execution_count": 10,
   "metadata": {},
   "outputs": [
    {
     "output_type": "execute_result",
     "data": {
      "text/plain": "     Number                     Name      Type  Cost  Attack  Defense  \\\n0         1                   Slimer  creature     1  -0.875        1   \n1         2                 Scuttler  creature     1  -1.875        2   \n2         3                  Beavrat  creature     1  -0.875        2   \n3         4              Plated Toad  creature     2  -1.875        5   \n4         5            Grime Gnasher  creature     2   1.125        1   \n..      ...                      ...       ...   ...     ...      ...   \n155     156  Major Life Steal Potion  itemBlue     3  -2.875        0   \n156     157            Life Sap Drop  itemBlue     3  -2.875       -1   \n157     158          Tome of Thunder  itemBlue     3  -2.875       -4   \n158     159       Vial of Soul Drain  itemBlue     4  -2.875       -3   \n159     160  Minor Life Steal Potion  itemBlue     2  -2.875        0   \n\n    Abilities  PlayerHP  EnemyHP  CardDraw  \\\n0      ------         1        0         0   \n1      ------         0       -1         0   \n2      ------         0        0         0   \n3      ------         0        0         0   \n4      ------         0        0         0   \n..        ...       ...      ...       ...   \n155    ------         3       -3         0   \n156    ------         1        0         1   \n157    ------         0        0         0   \n158    ------         3        0         0   \n159    ------         2       -2         0   \n\n                                          Descriptions  \n0                           Summon: You gain 1 health.  \n1              Summon: Deal 1 damage to your opponent.  \n2                                                  NaN  \n3                                                  NaN  \n4                                                  NaN  \n..                                                 ...  \n155  Deal 3 damage to your opponent and gain 3 health.  \n156      Deal 1 damage. gain 1 health and draw a card.  \n157                                     Deal 4 damage.  \n158                   Deal 3 damage and gain 3 health.  \n159  Deal 2 damage to your opponent and gain 2 health.  \n\n[160 rows x 11 columns]",
      "text/html": "<div>\n<style scoped>\n    .dataframe tbody tr th:only-of-type {\n        vertical-align: middle;\n    }\n\n    .dataframe tbody tr th {\n        vertical-align: top;\n    }\n\n    .dataframe thead th {\n        text-align: right;\n    }\n</style>\n<table border=\"1\" class=\"dataframe\">\n  <thead>\n    <tr style=\"text-align: right;\">\n      <th></th>\n      <th>Number</th>\n      <th>Name</th>\n      <th>Type</th>\n      <th>Cost</th>\n      <th>Attack</th>\n      <th>Defense</th>\n      <th>Abilities</th>\n      <th>PlayerHP</th>\n      <th>EnemyHP</th>\n      <th>CardDraw</th>\n      <th>Descriptions</th>\n    </tr>\n  </thead>\n  <tbody>\n    <tr>\n      <th>0</th>\n      <td>1</td>\n      <td>Slimer</td>\n      <td>creature</td>\n      <td>1</td>\n      <td>-0.875</td>\n      <td>1</td>\n      <td>------</td>\n      <td>1</td>\n      <td>0</td>\n      <td>0</td>\n      <td>Summon: You gain 1 health.</td>\n    </tr>\n    <tr>\n      <th>1</th>\n      <td>2</td>\n      <td>Scuttler</td>\n      <td>creature</td>\n      <td>1</td>\n      <td>-1.875</td>\n      <td>2</td>\n      <td>------</td>\n      <td>0</td>\n      <td>-1</td>\n      <td>0</td>\n      <td>Summon: Deal 1 damage to your opponent.</td>\n    </tr>\n    <tr>\n      <th>2</th>\n      <td>3</td>\n      <td>Beavrat</td>\n      <td>creature</td>\n      <td>1</td>\n      <td>-0.875</td>\n      <td>2</td>\n      <td>------</td>\n      <td>0</td>\n      <td>0</td>\n      <td>0</td>\n      <td>NaN</td>\n    </tr>\n    <tr>\n      <th>3</th>\n      <td>4</td>\n      <td>Plated Toad</td>\n      <td>creature</td>\n      <td>2</td>\n      <td>-1.875</td>\n      <td>5</td>\n      <td>------</td>\n      <td>0</td>\n      <td>0</td>\n      <td>0</td>\n      <td>NaN</td>\n    </tr>\n    <tr>\n      <th>4</th>\n      <td>5</td>\n      <td>Grime Gnasher</td>\n      <td>creature</td>\n      <td>2</td>\n      <td>1.125</td>\n      <td>1</td>\n      <td>------</td>\n      <td>0</td>\n      <td>0</td>\n      <td>0</td>\n      <td>NaN</td>\n    </tr>\n    <tr>\n      <th>...</th>\n      <td>...</td>\n      <td>...</td>\n      <td>...</td>\n      <td>...</td>\n      <td>...</td>\n      <td>...</td>\n      <td>...</td>\n      <td>...</td>\n      <td>...</td>\n      <td>...</td>\n      <td>...</td>\n    </tr>\n    <tr>\n      <th>155</th>\n      <td>156</td>\n      <td>Major Life Steal Potion</td>\n      <td>itemBlue</td>\n      <td>3</td>\n      <td>-2.875</td>\n      <td>0</td>\n      <td>------</td>\n      <td>3</td>\n      <td>-3</td>\n      <td>0</td>\n      <td>Deal 3 damage to your opponent and gain 3 health.</td>\n    </tr>\n    <tr>\n      <th>156</th>\n      <td>157</td>\n      <td>Life Sap Drop</td>\n      <td>itemBlue</td>\n      <td>3</td>\n      <td>-2.875</td>\n      <td>-1</td>\n      <td>------</td>\n      <td>1</td>\n      <td>0</td>\n      <td>1</td>\n      <td>Deal 1 damage. gain 1 health and draw a card.</td>\n    </tr>\n    <tr>\n      <th>157</th>\n      <td>158</td>\n      <td>Tome of Thunder</td>\n      <td>itemBlue</td>\n      <td>3</td>\n      <td>-2.875</td>\n      <td>-4</td>\n      <td>------</td>\n      <td>0</td>\n      <td>0</td>\n      <td>0</td>\n      <td>Deal 4 damage.</td>\n    </tr>\n    <tr>\n      <th>158</th>\n      <td>159</td>\n      <td>Vial of Soul Drain</td>\n      <td>itemBlue</td>\n      <td>4</td>\n      <td>-2.875</td>\n      <td>-3</td>\n      <td>------</td>\n      <td>3</td>\n      <td>0</td>\n      <td>0</td>\n      <td>Deal 3 damage and gain 3 health.</td>\n    </tr>\n    <tr>\n      <th>159</th>\n      <td>160</td>\n      <td>Minor Life Steal Potion</td>\n      <td>itemBlue</td>\n      <td>2</td>\n      <td>-2.875</td>\n      <td>0</td>\n      <td>------</td>\n      <td>2</td>\n      <td>-2</td>\n      <td>0</td>\n      <td>Deal 2 damage to your opponent and gain 2 health.</td>\n    </tr>\n  </tbody>\n</table>\n<p>160 rows × 11 columns</p>\n</div>"
     },
     "metadata": {},
     "execution_count": 10
    }
   ],
   "source": [
    "def remean(row):\n",
    "    row.Attack = row.Attack - cards.Attack.mean()\n",
    "    return row\n",
    "# axis=\"columns\" 输入是行，remean修改行的输入\n",
    "cards.apply(remean,axis=\"columns\")"
   ]
  },
  {
   "cell_type": "code",
   "execution_count": 9,
   "metadata": {},
   "outputs": [
    {
     "output_type": "execute_result",
     "data": {
      "text/plain": "0      1\n1      1\n2      1\n3      1\n4      1\n      ..\n155    1\n156    1\n157    1\n158    1\n159    1\nLength: 160, dtype: int64"
     },
     "metadata": {},
     "execution_count": 9
    }
   ],
   "source": [
    "# 注意返回值不同，返回的对象就不同，返回值是row，则返回DataFrame，返回具体值，则返回Series\n",
    "def star(row):\n",
    "    if (row.Cost > 7):\n",
    "        return 3\n",
    "    elif (row.Cost > 4):\n",
    "        return 2\n",
    "    else:\n",
    "        return 1\n",
    "cards.apply(star,axis=\"columns\")   \n",
    "# axis=\"index\" 则输入是列，需要写修改列输入的方法"
   ]
  },
  {
   "cell_type": "code",
   "execution_count": null,
   "metadata": {},
   "outputs": [],
   "source": [
    "# 注意类型\n",
    "cards.Name + \"-\" + cards.Descriptions"
   ]
  },
  {
   "cell_type": "code",
   "execution_count": null,
   "metadata": {},
   "outputs": [],
   "source": [
    "# sum()统计总数\n",
    "# in 用于判断序列中包不包含指定值，返回bool \n",
    "n_me = cards.Name.map(lambda desc:\"me\" in desc).sum() \n",
    "n_s = cards.Name.map(lambda desc:\"s\" in desc).sum() \n",
    "pd.Series([n_me, n_s], index=[\"meeee\", \"ssss\"])"
   ]
  },
  {
   "source": [
    "groupby()\n",
    "* 按参数分组，所有值相同的分为一个小组，每个小组可看作DataFrame的一个切片(每个小组都是一个小的DataFrame)\n",
    "* 对groupby()返回的小组(DataFrameGroupBy对象)可应用apply方法\n",
    "* 可以使用多个参数分组，使用列表指定多个参数，和mysql里面的复合key类似\n",
    "* agg()函数用于分组后同时对小组进行多种统计，使用列表作为参数"
   ],
   "cell_type": "markdown",
   "metadata": {}
  },
  {
   "cell_type": "code",
   "execution_count": null,
   "metadata": {},
   "outputs": [],
   "source": [
    "# 实现value_count()\n",
    "cards.groupby(\"Type\").Type.count()\n",
    "# 使用apply()选择每个Type的第一次出现的数据\n",
    "cards.groupby(\"Type\").apply(lambda df : df.iloc[0])"
   ]
  },
  {
   "cell_type": "code",
   "execution_count": null,
   "metadata": {},
   "outputs": [],
   "source": [
    "# 使用多个列分组\n",
    "cards.groupby([\"Type\", \"Cost\"]).apply(lambda df : df.loc[df.Cost.idxmax()])"
   ]
  },
  {
   "cell_type": "code",
   "execution_count": null,
   "metadata": {},
   "outputs": [],
   "source": [
    "# agg使用示例 同时计算长度，最小值，最大值\n",
    "atk_statistics = cards.groupby([\"Type\", \"Cost\"]).Attack.agg([len, max, min])\n",
    "atk_statistics"
   ]
  },
  {
   "source": [
    "多重索引\n",
    "* type(atk.index) #pandas.core.indexes.multi.MultiIndex\n",
    "* 和常规索引不同，有分层结构，有相应的处理方法\n",
    "* 多重索引需要多个键值才能索引到数据\n",
    "* 具体用法比较复杂"
   ],
   "cell_type": "markdown",
   "metadata": {}
  },
  {
   "cell_type": "code",
   "execution_count": null,
   "metadata": {},
   "outputs": [],
   "source": [
    "atk = cards.groupby([\"Type\", \"Cost\"]).Attack.agg([len])\n",
    "# 将多重索引重设为普通索引\n",
    "atk.reset_index()"
   ]
  },
  {
   "source": [
    "排序\n",
    "* 通常数据都是按索引排序的\n",
    "* 使用sort_values()方法来按数据排序\n",
    "    * by=\"col\" 指定按那一列排序\n",
    "    * ascending=False 使用降序(默认是升序)\n",
    "* sort_index()按索引排序\n",
    "* 和groupby()一样，可以使用多个键值来索引"
   ],
   "cell_type": "markdown",
   "metadata": {}
  },
  {
   "cell_type": "code",
   "execution_count": null,
   "metadata": {},
   "outputs": [],
   "source": [
    "atk.sort_values(by=\"len\", ascending=False)\n",
    "atk_statistics.sort_values(by=[\"len\", \"max\"])"
   ]
  },
  {
   "cell_type": "code",
   "execution_count": null,
   "metadata": {},
   "outputs": [],
   "source": [
    "cards.groupby(\"Cost\").agg([len])"
   ]
  },
  {
   "source": [
    "查看类型\n",
    "* Series 用dtype属性\n",
    "* DataFrame 用dtypes属性查看所有列的属性\n",
    "* 只用字符串的是object属性\n",
    "* 使用astype()进行类型转换\n",
    "* Series和DataFrame的索引有自己的属性"
   ],
   "cell_type": "markdown",
   "metadata": {}
  },
  {
   "source": [
    "cards.dtype"
   ],
   "cell_type": "code",
   "metadata": {},
   "execution_count": null,
   "outputs": []
  },
  {
   "source": [
    "缺失值处理\n",
    "* 缺失值用NaN(not a number)表示。由于技术原因，所有的NaN都是float64类型\n",
    "* 判断有没有缺失值用pd.isnull()或相对的pd.notnull()\n",
    "* 替换缺失值用fillna()\n",
    "* 修改值用replace()"
   ],
   "cell_type": "markdown",
   "metadata": {}
  },
  {
   "cell_type": "code",
   "execution_count": null,
   "metadata": {},
   "outputs": [],
   "source": [
    "cards[pd.isnull(cards.Descriptions)]\n",
    "cards[pd.notnull(cards.Descriptions)]"
   ]
  },
  {
   "cell_type": "code",
   "execution_count": null,
   "metadata": {},
   "outputs": [],
   "source": [
    "# fillna()\n",
    "cards.Descriptions.fillna(\"No Descriptions\")"
   ]
  },
  {
   "cell_type": "code",
   "execution_count": null,
   "metadata": {},
   "outputs": [],
   "source": [
    "# replace\n",
    "cards.Name.replace(\"Slimer\", \"史莱姆\")"
   ]
  },
  {
   "cell_type": "code",
   "execution_count": null,
   "metadata": {},
   "outputs": [],
   "source": [
    "# 统计缺失值个数\n",
    "# 法一：bool索引找到有缺失数据的行\n",
    "missing = cards[cards.Descriptions.isnull()]\n",
    "len(missing)\n",
    "# 法二：用isnull().sum() True被视为1，False被视为0，故sum()可用\n",
    "pd.isnull(cards.Descriptions).sum()"
   ]
  },
  {
   "source": [
    "修改列名，行索引名\n",
    "* rename(columns={\"OldName\":\"NewName\", ...}, index={\"old\":\"new\"})\n",
    "* 列名和行索引也可以有名字，用rename_axis(\"Attr\", axis=\"columns\")"
   ],
   "cell_type": "markdown",
   "metadata": {}
  },
  {
   "cell_type": "code",
   "execution_count": 20,
   "metadata": {},
   "outputs": [
    {
     "output_type": "execute_result",
     "data": {
      "text/plain": "attr  Number                     Name      Type  Cost  Attack  Defense  \\\n#N                                                                       \n0          1                   Slimer  creature     1       2        1   \n1          2                 Scuttler  creature     1       1        2   \n2          3                  Beavrat  creature     1       2        2   \n3          4              Plated Toad  creature     2       1        5   \n4          5            Grime Gnasher  creature     2       4        1   \n..       ...                      ...       ...   ...     ...      ...   \n155      156  Major Life Steal Potion  itemBlue     3       0        0   \n156      157            Life Sap Drop  itemBlue     3       0       -1   \n157      158          Tome of Thunder  itemBlue     3       0       -4   \n158      159       Vial of Soul Drain  itemBlue     4       0       -3   \n159      160  Minor Life Steal Potion  itemBlue     2       0        0   \n\nattr Abilities  PlayerHP  EnemyHP  CardDraw  \\\n#N                                            \n0       ------         1        0         0   \n1       ------         0       -1         0   \n2       ------         0        0         0   \n3       ------         0        0         0   \n4       ------         0        0         0   \n..         ...       ...      ...       ...   \n155     ------         3       -3         0   \n156     ------         1        0         1   \n157     ------         0        0         0   \n158     ------         3        0         0   \n159     ------         2       -2         0   \n\nattr                                       Descriptions  \n#N                                                       \n0                            Summon: You gain 1 health.  \n1               Summon: Deal 1 damage to your opponent.  \n2                                                   NaN  \n3                                                   NaN  \n4                                                   NaN  \n..                                                  ...  \n155   Deal 3 damage to your opponent and gain 3 health.  \n156       Deal 1 damage. gain 1 health and draw a card.  \n157                                      Deal 4 damage.  \n158                    Deal 3 damage and gain 3 health.  \n159   Deal 2 damage to your opponent and gain 2 health.  \n\n[160 rows x 11 columns]",
      "text/html": "<div>\n<style scoped>\n    .dataframe tbody tr th:only-of-type {\n        vertical-align: middle;\n    }\n\n    .dataframe tbody tr th {\n        vertical-align: top;\n    }\n\n    .dataframe thead th {\n        text-align: right;\n    }\n</style>\n<table border=\"1\" class=\"dataframe\">\n  <thead>\n    <tr style=\"text-align: right;\">\n      <th>attr</th>\n      <th>Number</th>\n      <th>Name</th>\n      <th>Type</th>\n      <th>Cost</th>\n      <th>Attack</th>\n      <th>Defense</th>\n      <th>Abilities</th>\n      <th>PlayerHP</th>\n      <th>EnemyHP</th>\n      <th>CardDraw</th>\n      <th>Descriptions</th>\n    </tr>\n    <tr>\n      <th>#N</th>\n      <th></th>\n      <th></th>\n      <th></th>\n      <th></th>\n      <th></th>\n      <th></th>\n      <th></th>\n      <th></th>\n      <th></th>\n      <th></th>\n      <th></th>\n    </tr>\n  </thead>\n  <tbody>\n    <tr>\n      <th>0</th>\n      <td>1</td>\n      <td>Slimer</td>\n      <td>creature</td>\n      <td>1</td>\n      <td>2</td>\n      <td>1</td>\n      <td>------</td>\n      <td>1</td>\n      <td>0</td>\n      <td>0</td>\n      <td>Summon: You gain 1 health.</td>\n    </tr>\n    <tr>\n      <th>1</th>\n      <td>2</td>\n      <td>Scuttler</td>\n      <td>creature</td>\n      <td>1</td>\n      <td>1</td>\n      <td>2</td>\n      <td>------</td>\n      <td>0</td>\n      <td>-1</td>\n      <td>0</td>\n      <td>Summon: Deal 1 damage to your opponent.</td>\n    </tr>\n    <tr>\n      <th>2</th>\n      <td>3</td>\n      <td>Beavrat</td>\n      <td>creature</td>\n      <td>1</td>\n      <td>2</td>\n      <td>2</td>\n      <td>------</td>\n      <td>0</td>\n      <td>0</td>\n      <td>0</td>\n      <td>NaN</td>\n    </tr>\n    <tr>\n      <th>3</th>\n      <td>4</td>\n      <td>Plated Toad</td>\n      <td>creature</td>\n      <td>2</td>\n      <td>1</td>\n      <td>5</td>\n      <td>------</td>\n      <td>0</td>\n      <td>0</td>\n      <td>0</td>\n      <td>NaN</td>\n    </tr>\n    <tr>\n      <th>4</th>\n      <td>5</td>\n      <td>Grime Gnasher</td>\n      <td>creature</td>\n      <td>2</td>\n      <td>4</td>\n      <td>1</td>\n      <td>------</td>\n      <td>0</td>\n      <td>0</td>\n      <td>0</td>\n      <td>NaN</td>\n    </tr>\n    <tr>\n      <th>...</th>\n      <td>...</td>\n      <td>...</td>\n      <td>...</td>\n      <td>...</td>\n      <td>...</td>\n      <td>...</td>\n      <td>...</td>\n      <td>...</td>\n      <td>...</td>\n      <td>...</td>\n      <td>...</td>\n    </tr>\n    <tr>\n      <th>155</th>\n      <td>156</td>\n      <td>Major Life Steal Potion</td>\n      <td>itemBlue</td>\n      <td>3</td>\n      <td>0</td>\n      <td>0</td>\n      <td>------</td>\n      <td>3</td>\n      <td>-3</td>\n      <td>0</td>\n      <td>Deal 3 damage to your opponent and gain 3 health.</td>\n    </tr>\n    <tr>\n      <th>156</th>\n      <td>157</td>\n      <td>Life Sap Drop</td>\n      <td>itemBlue</td>\n      <td>3</td>\n      <td>0</td>\n      <td>-1</td>\n      <td>------</td>\n      <td>1</td>\n      <td>0</td>\n      <td>1</td>\n      <td>Deal 1 damage. gain 1 health and draw a card.</td>\n    </tr>\n    <tr>\n      <th>157</th>\n      <td>158</td>\n      <td>Tome of Thunder</td>\n      <td>itemBlue</td>\n      <td>3</td>\n      <td>0</td>\n      <td>-4</td>\n      <td>------</td>\n      <td>0</td>\n      <td>0</td>\n      <td>0</td>\n      <td>Deal 4 damage.</td>\n    </tr>\n    <tr>\n      <th>158</th>\n      <td>159</td>\n      <td>Vial of Soul Drain</td>\n      <td>itemBlue</td>\n      <td>4</td>\n      <td>0</td>\n      <td>-3</td>\n      <td>------</td>\n      <td>3</td>\n      <td>0</td>\n      <td>0</td>\n      <td>Deal 3 damage and gain 3 health.</td>\n    </tr>\n    <tr>\n      <th>159</th>\n      <td>160</td>\n      <td>Minor Life Steal Potion</td>\n      <td>itemBlue</td>\n      <td>2</td>\n      <td>0</td>\n      <td>0</td>\n      <td>------</td>\n      <td>2</td>\n      <td>-2</td>\n      <td>0</td>\n      <td>Deal 2 damage to your opponent and gain 2 health.</td>\n    </tr>\n  </tbody>\n</table>\n<p>160 rows × 11 columns</p>\n</div>"
     },
     "metadata": {},
     "execution_count": 20
    }
   ],
   "source": [
    "cards.rename_axis(\"attr\", axis=\"columns\").rename_axis(\"#N\", axis=\"rows\")"
   ]
  },
  {
   "source": [
    "合并\n",
    "* concat(\\[\"dfA\", \"dfB\"\\]) 两个相同的列表，连在一起，作为行增加\n",
    "* left.join(right, lsuffix=\"_L\", rsuffix=\"_R\") 作为列增加，right加入left，left中的列加_L后缀，right中的列加_R后缀"
   ],
   "cell_type": "markdown",
   "metadata": {}
  },
  {
   "cell_type": "code",
   "execution_count": 32,
   "metadata": {},
   "outputs": [
    {
     "output_type": "execute_result",
     "data": {
      "text/plain": "    Number           Name      Type  Cost  Attack  Defense Abilities  \\\n0        1         Slimer  creature   1.0     2.0      1.0    ------   \n1        2       Scuttler  creature   1.0     1.0      2.0    ------   \n2        3        Beavrat  creature   1.0     2.0      2.0    ------   \n3        4    Plated Toad  creature   2.0     1.0      5.0    ------   \n4        5  Grime Gnasher  creature   2.0     4.0      1.0    ------   \n..     ...            ...       ...   ...     ...      ...       ...   \n0        1            NaN       NaN   NaN     NaN      NaN       NaN   \n1        2            NaN       NaN   NaN     NaN      NaN       NaN   \n2       24            NaN       NaN   NaN     NaN      NaN       NaN   \n3       25            NaN       NaN   NaN     NaN      NaN       NaN   \n4       26            NaN       NaN   NaN     NaN      NaN       NaN   \n\n    PlayerHP  EnemyHP  CardDraw  ... name      type cost  attack  defense  \\\n0        1.0      0.0       0.0  ...  NaN       NaN  NaN     NaN      NaN   \n1        0.0     -1.0       0.0  ...  NaN       NaN  NaN     NaN      NaN   \n2        0.0      0.0       0.0  ...  NaN       NaN  NaN     NaN      NaN   \n3        0.0      0.0       0.0  ...  NaN       NaN  NaN     NaN      NaN   \n4        0.0      0.0       0.0  ...  NaN       NaN  NaN     NaN      NaN   \n..       ...      ...       ...  ...  ...       ...  ...     ...      ...   \n0        NaN      NaN       NaN  ...   SB  creature  1.0   999.0    999.0   \n1        NaN      NaN       NaN  ...   SB  creature  1.0   999.0    999.0   \n2        NaN      NaN       NaN  ...   SB  creature  1.0   999.0    999.0   \n3        NaN      NaN       NaN  ...   SB  creature  1.0   999.0    999.0   \n4        NaN      NaN       NaN  ...   SB  creature  1.0   999.0    999.0   \n\n    abilities playerHP  enemyHP  cardDraw                  descriptions  \n0         NaN      NaN      NaN       NaN                           NaN  \n1         NaN      NaN      NaN       NaN                           NaN  \n2         NaN      NaN      NaN       NaN                           NaN  \n3         NaN      NaN      NaN       NaN                           NaN  \n4         NaN      NaN      NaN       NaN                           NaN  \n..        ...      ...      ...       ...                           ...  \n0      ------      1.0      0.0       0.0  Summon: You gain 999 health.  \n1      ------      1.0      0.0       0.0  Summon: You gain 999 health.  \n2      ------      1.0      0.0       0.0  Summon: You gain 999 health.  \n3      ------      1.0      0.0       0.0  Summon: You gain 999 health.  \n4      ------      1.0      0.0       0.0  Summon: You gain 999 health.  \n\n[165 rows x 21 columns]",
      "text/html": "<div>\n<style scoped>\n    .dataframe tbody tr th:only-of-type {\n        vertical-align: middle;\n    }\n\n    .dataframe tbody tr th {\n        vertical-align: top;\n    }\n\n    .dataframe thead th {\n        text-align: right;\n    }\n</style>\n<table border=\"1\" class=\"dataframe\">\n  <thead>\n    <tr style=\"text-align: right;\">\n      <th></th>\n      <th>Number</th>\n      <th>Name</th>\n      <th>Type</th>\n      <th>Cost</th>\n      <th>Attack</th>\n      <th>Defense</th>\n      <th>Abilities</th>\n      <th>PlayerHP</th>\n      <th>EnemyHP</th>\n      <th>CardDraw</th>\n      <th>...</th>\n      <th>name</th>\n      <th>type</th>\n      <th>cost</th>\n      <th>attack</th>\n      <th>defense</th>\n      <th>abilities</th>\n      <th>playerHP</th>\n      <th>enemyHP</th>\n      <th>cardDraw</th>\n      <th>descriptions</th>\n    </tr>\n  </thead>\n  <tbody>\n    <tr>\n      <th>0</th>\n      <td>1</td>\n      <td>Slimer</td>\n      <td>creature</td>\n      <td>1.0</td>\n      <td>2.0</td>\n      <td>1.0</td>\n      <td>------</td>\n      <td>1.0</td>\n      <td>0.0</td>\n      <td>0.0</td>\n      <td>...</td>\n      <td>NaN</td>\n      <td>NaN</td>\n      <td>NaN</td>\n      <td>NaN</td>\n      <td>NaN</td>\n      <td>NaN</td>\n      <td>NaN</td>\n      <td>NaN</td>\n      <td>NaN</td>\n      <td>NaN</td>\n    </tr>\n    <tr>\n      <th>1</th>\n      <td>2</td>\n      <td>Scuttler</td>\n      <td>creature</td>\n      <td>1.0</td>\n      <td>1.0</td>\n      <td>2.0</td>\n      <td>------</td>\n      <td>0.0</td>\n      <td>-1.0</td>\n      <td>0.0</td>\n      <td>...</td>\n      <td>NaN</td>\n      <td>NaN</td>\n      <td>NaN</td>\n      <td>NaN</td>\n      <td>NaN</td>\n      <td>NaN</td>\n      <td>NaN</td>\n      <td>NaN</td>\n      <td>NaN</td>\n      <td>NaN</td>\n    </tr>\n    <tr>\n      <th>2</th>\n      <td>3</td>\n      <td>Beavrat</td>\n      <td>creature</td>\n      <td>1.0</td>\n      <td>2.0</td>\n      <td>2.0</td>\n      <td>------</td>\n      <td>0.0</td>\n      <td>0.0</td>\n      <td>0.0</td>\n      <td>...</td>\n      <td>NaN</td>\n      <td>NaN</td>\n      <td>NaN</td>\n      <td>NaN</td>\n      <td>NaN</td>\n      <td>NaN</td>\n      <td>NaN</td>\n      <td>NaN</td>\n      <td>NaN</td>\n      <td>NaN</td>\n    </tr>\n    <tr>\n      <th>3</th>\n      <td>4</td>\n      <td>Plated Toad</td>\n      <td>creature</td>\n      <td>2.0</td>\n      <td>1.0</td>\n      <td>5.0</td>\n      <td>------</td>\n      <td>0.0</td>\n      <td>0.0</td>\n      <td>0.0</td>\n      <td>...</td>\n      <td>NaN</td>\n      <td>NaN</td>\n      <td>NaN</td>\n      <td>NaN</td>\n      <td>NaN</td>\n      <td>NaN</td>\n      <td>NaN</td>\n      <td>NaN</td>\n      <td>NaN</td>\n      <td>NaN</td>\n    </tr>\n    <tr>\n      <th>4</th>\n      <td>5</td>\n      <td>Grime Gnasher</td>\n      <td>creature</td>\n      <td>2.0</td>\n      <td>4.0</td>\n      <td>1.0</td>\n      <td>------</td>\n      <td>0.0</td>\n      <td>0.0</td>\n      <td>0.0</td>\n      <td>...</td>\n      <td>NaN</td>\n      <td>NaN</td>\n      <td>NaN</td>\n      <td>NaN</td>\n      <td>NaN</td>\n      <td>NaN</td>\n      <td>NaN</td>\n      <td>NaN</td>\n      <td>NaN</td>\n      <td>NaN</td>\n    </tr>\n    <tr>\n      <th>...</th>\n      <td>...</td>\n      <td>...</td>\n      <td>...</td>\n      <td>...</td>\n      <td>...</td>\n      <td>...</td>\n      <td>...</td>\n      <td>...</td>\n      <td>...</td>\n      <td>...</td>\n      <td>...</td>\n      <td>...</td>\n      <td>...</td>\n      <td>...</td>\n      <td>...</td>\n      <td>...</td>\n      <td>...</td>\n      <td>...</td>\n      <td>...</td>\n      <td>...</td>\n      <td>...</td>\n    </tr>\n    <tr>\n      <th>0</th>\n      <td>1</td>\n      <td>NaN</td>\n      <td>NaN</td>\n      <td>NaN</td>\n      <td>NaN</td>\n      <td>NaN</td>\n      <td>NaN</td>\n      <td>NaN</td>\n      <td>NaN</td>\n      <td>NaN</td>\n      <td>...</td>\n      <td>SB</td>\n      <td>creature</td>\n      <td>1.0</td>\n      <td>999.0</td>\n      <td>999.0</td>\n      <td>------</td>\n      <td>1.0</td>\n      <td>0.0</td>\n      <td>0.0</td>\n      <td>Summon: You gain 999 health.</td>\n    </tr>\n    <tr>\n      <th>1</th>\n      <td>2</td>\n      <td>NaN</td>\n      <td>NaN</td>\n      <td>NaN</td>\n      <td>NaN</td>\n      <td>NaN</td>\n      <td>NaN</td>\n      <td>NaN</td>\n      <td>NaN</td>\n      <td>NaN</td>\n      <td>...</td>\n      <td>SB</td>\n      <td>creature</td>\n      <td>1.0</td>\n      <td>999.0</td>\n      <td>999.0</td>\n      <td>------</td>\n      <td>1.0</td>\n      <td>0.0</td>\n      <td>0.0</td>\n      <td>Summon: You gain 999 health.</td>\n    </tr>\n    <tr>\n      <th>2</th>\n      <td>24</td>\n      <td>NaN</td>\n      <td>NaN</td>\n      <td>NaN</td>\n      <td>NaN</td>\n      <td>NaN</td>\n      <td>NaN</td>\n      <td>NaN</td>\n      <td>NaN</td>\n      <td>NaN</td>\n      <td>...</td>\n      <td>SB</td>\n      <td>creature</td>\n      <td>1.0</td>\n      <td>999.0</td>\n      <td>999.0</td>\n      <td>------</td>\n      <td>1.0</td>\n      <td>0.0</td>\n      <td>0.0</td>\n      <td>Summon: You gain 999 health.</td>\n    </tr>\n    <tr>\n      <th>3</th>\n      <td>25</td>\n      <td>NaN</td>\n      <td>NaN</td>\n      <td>NaN</td>\n      <td>NaN</td>\n      <td>NaN</td>\n      <td>NaN</td>\n      <td>NaN</td>\n      <td>NaN</td>\n      <td>NaN</td>\n      <td>...</td>\n      <td>SB</td>\n      <td>creature</td>\n      <td>1.0</td>\n      <td>999.0</td>\n      <td>999.0</td>\n      <td>------</td>\n      <td>1.0</td>\n      <td>0.0</td>\n      <td>0.0</td>\n      <td>Summon: You gain 999 health.</td>\n    </tr>\n    <tr>\n      <th>4</th>\n      <td>26</td>\n      <td>NaN</td>\n      <td>NaN</td>\n      <td>NaN</td>\n      <td>NaN</td>\n      <td>NaN</td>\n      <td>NaN</td>\n      <td>NaN</td>\n      <td>NaN</td>\n      <td>NaN</td>\n      <td>...</td>\n      <td>SB</td>\n      <td>creature</td>\n      <td>1.0</td>\n      <td>999.0</td>\n      <td>999.0</td>\n      <td>------</td>\n      <td>1.0</td>\n      <td>0.0</td>\n      <td>0.0</td>\n      <td>Summon: You gain 999 health.</td>\n    </tr>\n  </tbody>\n</table>\n<p>165 rows × 21 columns</p>\n</div>"
     },
     "metadata": {},
     "execution_count": 32
    }
   ],
   "source": [
    "news = pd.read_csv(\"new.csv\")\n",
    "pd.concat([cards, news])"
   ]
  },
  {
   "cell_type": "code",
   "execution_count": 33,
   "metadata": {},
   "outputs": [
    {
     "output_type": "execute_result",
     "data": {
      "text/plain": "       name      type  cost  attack  defense abilities  playerHP  enemyHP  \\\nNumber                                                                      \n1        SB  creature     1     999      999    ------         1        0   \n2        SB  creature     1     999      999    ------         1        0   \n24       SB  creature     1     999      999    ------         1        0   \n25       SB  creature     1     999      999    ------         1        0   \n26       SB  creature     1     999      999    ------         1        0   \n\n        cardDraw                  descriptions                  Name  \\\nNumber                                                                 \n1              0  Summon: You gain 999 health.                Slimer   \n2              0  Summon: You gain 999 health.              Scuttler   \n24             0  Summon: You gain 999 health.  Exploding Skitterbug   \n25             0  Summon: You gain 999 health.      Spiney Chompleaf   \n26             0  Summon: You gain 999 health.            Razor Crab   \n\n            Type  Cost  Attack  Defense Abilities  PlayerHP  EnemyHP  \\\nNumber                                                                 \n1       creature     1       2        1    ------         1        0   \n2       creature     1       1        2    ------         0       -1   \n24      creature     1       1        1    ------         0       -1   \n25      creature     2       3        1    ------        -2       -2   \n26      creature     2       3        2    ------         0       -1   \n\n        CardDraw                             Descriptions  \nNumber                                                     \n1              0               Summon: You gain 1 health.  \n2              0  Summon: Deal 1 damage to your opponent.  \n24             0  Summon: Deal 1 damage to your opponent.  \n25             0    Summon: Deal 2 damage to each player.  \n26             0  Summon: Deal 1 damage to your opponent.  ",
      "text/html": "<div>\n<style scoped>\n    .dataframe tbody tr th:only-of-type {\n        vertical-align: middle;\n    }\n\n    .dataframe tbody tr th {\n        vertical-align: top;\n    }\n\n    .dataframe thead th {\n        text-align: right;\n    }\n</style>\n<table border=\"1\" class=\"dataframe\">\n  <thead>\n    <tr style=\"text-align: right;\">\n      <th></th>\n      <th>name</th>\n      <th>type</th>\n      <th>cost</th>\n      <th>attack</th>\n      <th>defense</th>\n      <th>abilities</th>\n      <th>playerHP</th>\n      <th>enemyHP</th>\n      <th>cardDraw</th>\n      <th>descriptions</th>\n      <th>Name</th>\n      <th>Type</th>\n      <th>Cost</th>\n      <th>Attack</th>\n      <th>Defense</th>\n      <th>Abilities</th>\n      <th>PlayerHP</th>\n      <th>EnemyHP</th>\n      <th>CardDraw</th>\n      <th>Descriptions</th>\n    </tr>\n    <tr>\n      <th>Number</th>\n      <th></th>\n      <th></th>\n      <th></th>\n      <th></th>\n      <th></th>\n      <th></th>\n      <th></th>\n      <th></th>\n      <th></th>\n      <th></th>\n      <th></th>\n      <th></th>\n      <th></th>\n      <th></th>\n      <th></th>\n      <th></th>\n      <th></th>\n      <th></th>\n      <th></th>\n      <th></th>\n    </tr>\n  </thead>\n  <tbody>\n    <tr>\n      <th>1</th>\n      <td>SB</td>\n      <td>creature</td>\n      <td>1</td>\n      <td>999</td>\n      <td>999</td>\n      <td>------</td>\n      <td>1</td>\n      <td>0</td>\n      <td>0</td>\n      <td>Summon: You gain 999 health.</td>\n      <td>Slimer</td>\n      <td>creature</td>\n      <td>1</td>\n      <td>2</td>\n      <td>1</td>\n      <td>------</td>\n      <td>1</td>\n      <td>0</td>\n      <td>0</td>\n      <td>Summon: You gain 1 health.</td>\n    </tr>\n    <tr>\n      <th>2</th>\n      <td>SB</td>\n      <td>creature</td>\n      <td>1</td>\n      <td>999</td>\n      <td>999</td>\n      <td>------</td>\n      <td>1</td>\n      <td>0</td>\n      <td>0</td>\n      <td>Summon: You gain 999 health.</td>\n      <td>Scuttler</td>\n      <td>creature</td>\n      <td>1</td>\n      <td>1</td>\n      <td>2</td>\n      <td>------</td>\n      <td>0</td>\n      <td>-1</td>\n      <td>0</td>\n      <td>Summon: Deal 1 damage to your opponent.</td>\n    </tr>\n    <tr>\n      <th>24</th>\n      <td>SB</td>\n      <td>creature</td>\n      <td>1</td>\n      <td>999</td>\n      <td>999</td>\n      <td>------</td>\n      <td>1</td>\n      <td>0</td>\n      <td>0</td>\n      <td>Summon: You gain 999 health.</td>\n      <td>Exploding Skitterbug</td>\n      <td>creature</td>\n      <td>1</td>\n      <td>1</td>\n      <td>1</td>\n      <td>------</td>\n      <td>0</td>\n      <td>-1</td>\n      <td>0</td>\n      <td>Summon: Deal 1 damage to your opponent.</td>\n    </tr>\n    <tr>\n      <th>25</th>\n      <td>SB</td>\n      <td>creature</td>\n      <td>1</td>\n      <td>999</td>\n      <td>999</td>\n      <td>------</td>\n      <td>1</td>\n      <td>0</td>\n      <td>0</td>\n      <td>Summon: You gain 999 health.</td>\n      <td>Spiney Chompleaf</td>\n      <td>creature</td>\n      <td>2</td>\n      <td>3</td>\n      <td>1</td>\n      <td>------</td>\n      <td>-2</td>\n      <td>-2</td>\n      <td>0</td>\n      <td>Summon: Deal 2 damage to each player.</td>\n    </tr>\n    <tr>\n      <th>26</th>\n      <td>SB</td>\n      <td>creature</td>\n      <td>1</td>\n      <td>999</td>\n      <td>999</td>\n      <td>------</td>\n      <td>1</td>\n      <td>0</td>\n      <td>0</td>\n      <td>Summon: You gain 999 health.</td>\n      <td>Razor Crab</td>\n      <td>creature</td>\n      <td>2</td>\n      <td>3</td>\n      <td>2</td>\n      <td>------</td>\n      <td>0</td>\n      <td>-1</td>\n      <td>0</td>\n      <td>Summon: Deal 1 damage to your opponent.</td>\n    </tr>\n  </tbody>\n</table>\n</div>"
     },
     "metadata": {},
     "execution_count": 33
    }
   ],
   "source": [
    "# 多的加少的会补缺失值，少的加多的，多的被截断。有列名相同时，加后缀以区分\n",
    "cards.join(news, lsuffix=\"_L\", rsuffix=\"_R\")\n",
    "news.join(cards, lsuffix=\"_L\", rsuffix=\"_R\")\n",
    "# 设置以那一列为索引合并，除索引外，没有不同的列名时，可以不加后缀\n",
    "news.set_index(\"Number\").join(cards.set_index(\"Number\"))"
   ]
  },
  {
   "cell_type": "code",
   "execution_count": null,
   "metadata": {},
   "outputs": [],
   "source": []
  }
 ]
}